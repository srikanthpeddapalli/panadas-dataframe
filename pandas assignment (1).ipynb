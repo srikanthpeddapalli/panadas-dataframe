{
 "cells": [
  {
   "cell_type": "markdown",
   "id": "098594e4",
   "metadata": {},
   "source": [
    "# Pandas Assignment"
   ]
  },
  {
   "cell_type": "code",
   "execution_count": 1,
   "id": "76dd1e92",
   "metadata": {},
   "outputs": [],
   "source": [
    "import pandas as pd"
   ]
  },
  {
   "cell_type": "code",
   "execution_count": 10,
   "id": "ed26794f",
   "metadata": {},
   "outputs": [],
   "source": [
    "names=pd.Series([\"Lucky\",\"Laxman\",\"mani\",\"Ramu\",\"Raju\",\"Sita\",\"chinna\",\"Happy\"])"
   ]
  },
  {
   "cell_type": "code",
   "execution_count": 11,
   "id": "cfea92b2",
   "metadata": {},
   "outputs": [
    {
     "data": {
      "text/plain": [
       "0     Lucky\n",
       "1    Laxman\n",
       "2      mani\n",
       "3      Ramu\n",
       "4      Raju\n",
       "5      Sita\n",
       "6    chinna\n",
       "7     Happy\n",
       "dtype: object"
      ]
     },
     "execution_count": 11,
     "metadata": {},
     "output_type": "execute_result"
    }
   ],
   "source": [
    "names"
   ]
  },
  {
   "cell_type": "code",
   "execution_count": 12,
   "id": "ffabe626",
   "metadata": {},
   "outputs": [],
   "source": [
    "subject1=pd.Series([45,56,77,89,76,88,24,34])"
   ]
  },
  {
   "cell_type": "code",
   "execution_count": 13,
   "id": "184b3cc6",
   "metadata": {},
   "outputs": [
    {
     "data": {
      "text/plain": [
       "0    45\n",
       "1    56\n",
       "2    77\n",
       "3    89\n",
       "4    76\n",
       "5    88\n",
       "6    24\n",
       "7    34\n",
       "dtype: int64"
      ]
     },
     "execution_count": 13,
     "metadata": {},
     "output_type": "execute_result"
    }
   ],
   "source": [
    "subject1"
   ]
  },
  {
   "cell_type": "code",
   "execution_count": 14,
   "id": "880c5f70",
   "metadata": {},
   "outputs": [],
   "source": [
    "subject2=pd.Series([45,67,56,87,35,56,89,57])"
   ]
  },
  {
   "cell_type": "code",
   "execution_count": 15,
   "id": "9dfc50b8",
   "metadata": {},
   "outputs": [
    {
     "data": {
      "text/plain": [
       "0    45\n",
       "1    67\n",
       "2    56\n",
       "3    87\n",
       "4    35\n",
       "5    56\n",
       "6    89\n",
       "7    57\n",
       "dtype: int64"
      ]
     },
     "execution_count": 15,
     "metadata": {},
     "output_type": "execute_result"
    }
   ],
   "source": [
    "subject2"
   ]
  },
  {
   "cell_type": "code",
   "execution_count": 16,
   "id": "564dec1e",
   "metadata": {},
   "outputs": [],
   "source": [
    "subject3=pd.Series([45,89,56,36,26,78,47,87])"
   ]
  },
  {
   "cell_type": "code",
   "execution_count": 17,
   "id": "e775e3b4",
   "metadata": {},
   "outputs": [
    {
     "data": {
      "text/plain": [
       "0    45\n",
       "1    89\n",
       "2    56\n",
       "3    36\n",
       "4    26\n",
       "5    78\n",
       "6    47\n",
       "7    87\n",
       "dtype: int64"
      ]
     },
     "execution_count": 17,
     "metadata": {},
     "output_type": "execute_result"
    }
   ],
   "source": [
    "subject3"
   ]
  },
  {
   "cell_type": "markdown",
   "id": "8a6f73d8",
   "metadata": {},
   "source": [
    "# NOW CREATING DATAFRAME "
   ]
  },
  {
   "cell_type": "code",
   "execution_count": 18,
   "id": "8ba75576",
   "metadata": {},
   "outputs": [],
   "source": [
    "class_list=pd.DataFrame({\"student_name\":names,\n",
    "                        \"Mathematics\":subject1,\n",
    "                        \"Physics\":subject2,\n",
    "                        \"Chemistry\":subject3})"
   ]
  },
  {
   "cell_type": "code",
   "execution_count": 19,
   "id": "1aec4637",
   "metadata": {},
   "outputs": [
    {
     "data": {
      "text/html": [
       "<div>\n",
       "<style scoped>\n",
       "    .dataframe tbody tr th:only-of-type {\n",
       "        vertical-align: middle;\n",
       "    }\n",
       "\n",
       "    .dataframe tbody tr th {\n",
       "        vertical-align: top;\n",
       "    }\n",
       "\n",
       "    .dataframe thead th {\n",
       "        text-align: right;\n",
       "    }\n",
       "</style>\n",
       "<table border=\"1\" class=\"dataframe\">\n",
       "  <thead>\n",
       "    <tr style=\"text-align: right;\">\n",
       "      <th></th>\n",
       "      <th>student_name</th>\n",
       "      <th>Mathematics</th>\n",
       "      <th>Physics</th>\n",
       "      <th>Chemistry</th>\n",
       "    </tr>\n",
       "  </thead>\n",
       "  <tbody>\n",
       "    <tr>\n",
       "      <th>0</th>\n",
       "      <td>Lucky</td>\n",
       "      <td>45</td>\n",
       "      <td>45</td>\n",
       "      <td>45</td>\n",
       "    </tr>\n",
       "    <tr>\n",
       "      <th>1</th>\n",
       "      <td>Laxman</td>\n",
       "      <td>56</td>\n",
       "      <td>67</td>\n",
       "      <td>89</td>\n",
       "    </tr>\n",
       "    <tr>\n",
       "      <th>2</th>\n",
       "      <td>mani</td>\n",
       "      <td>77</td>\n",
       "      <td>56</td>\n",
       "      <td>56</td>\n",
       "    </tr>\n",
       "    <tr>\n",
       "      <th>3</th>\n",
       "      <td>Ramu</td>\n",
       "      <td>89</td>\n",
       "      <td>87</td>\n",
       "      <td>36</td>\n",
       "    </tr>\n",
       "    <tr>\n",
       "      <th>4</th>\n",
       "      <td>Raju</td>\n",
       "      <td>76</td>\n",
       "      <td>35</td>\n",
       "      <td>26</td>\n",
       "    </tr>\n",
       "    <tr>\n",
       "      <th>5</th>\n",
       "      <td>Sita</td>\n",
       "      <td>88</td>\n",
       "      <td>56</td>\n",
       "      <td>78</td>\n",
       "    </tr>\n",
       "    <tr>\n",
       "      <th>6</th>\n",
       "      <td>chinna</td>\n",
       "      <td>24</td>\n",
       "      <td>89</td>\n",
       "      <td>47</td>\n",
       "    </tr>\n",
       "    <tr>\n",
       "      <th>7</th>\n",
       "      <td>Happy</td>\n",
       "      <td>34</td>\n",
       "      <td>57</td>\n",
       "      <td>87</td>\n",
       "    </tr>\n",
       "  </tbody>\n",
       "</table>\n",
       "</div>"
      ],
      "text/plain": [
       "  student_name  Mathematics  Physics  Chemistry\n",
       "0        Lucky           45       45         45\n",
       "1       Laxman           56       67         89\n",
       "2         mani           77       56         56\n",
       "3         Ramu           89       87         36\n",
       "4         Raju           76       35         26\n",
       "5         Sita           88       56         78\n",
       "6       chinna           24       89         47\n",
       "7        Happy           34       57         87"
      ]
     },
     "execution_count": 19,
     "metadata": {},
     "output_type": "execute_result"
    }
   ],
   "source": [
    "class_list"
   ]
  },
  {
   "cell_type": "code",
   "execution_count": 20,
   "id": "b74316a9",
   "metadata": {},
   "outputs": [
    {
     "name": "stderr",
     "output_type": "stream",
     "text": [
      "C:\\Users\\pedda\\AppData\\Local\\Temp/ipykernel_4592/3616658980.py:1: FutureWarning: Dropping of nuisance columns in DataFrame reductions (with 'numeric_only=None') is deprecated; in a future version this will raise TypeError.  Select only valid columns before calling the reduction.\n",
      "  total=class_list.sum(axis=1)\n"
     ]
    }
   ],
   "source": [
    "total=class_list.sum(axis=1)"
   ]
  },
  {
   "cell_type": "code",
   "execution_count": 21,
   "id": "86c701a6",
   "metadata": {},
   "outputs": [
    {
     "data": {
      "text/plain": [
       "0    135\n",
       "1    212\n",
       "2    189\n",
       "3    212\n",
       "4    137\n",
       "5    222\n",
       "6    160\n",
       "7    178\n",
       "dtype: int64"
      ]
     },
     "execution_count": 21,
     "metadata": {},
     "output_type": "execute_result"
    }
   ],
   "source": [
    "total"
   ]
  },
  {
   "cell_type": "code",
   "execution_count": 22,
   "id": "0660c920",
   "metadata": {},
   "outputs": [
    {
     "data": {
      "text/plain": [
       "0     Lucky\n",
       "1    Laxman\n",
       "2      mani\n",
       "3      Ramu\n",
       "4      Raju\n",
       "5      Sita\n",
       "6    chinna\n",
       "7     Happy\n",
       "Name: student_name, dtype: object"
      ]
     },
     "execution_count": 22,
     "metadata": {},
     "output_type": "execute_result"
    }
   ],
   "source": [
    "class_list[\"student_name\"]"
   ]
  },
  {
   "cell_type": "code",
   "execution_count": 23,
   "id": "7a46a0e0",
   "metadata": {},
   "outputs": [
    {
     "data": {
      "text/html": [
       "<div>\n",
       "<style scoped>\n",
       "    .dataframe tbody tr th:only-of-type {\n",
       "        vertical-align: middle;\n",
       "    }\n",
       "\n",
       "    .dataframe tbody tr th {\n",
       "        vertical-align: top;\n",
       "    }\n",
       "\n",
       "    .dataframe thead th {\n",
       "        text-align: right;\n",
       "    }\n",
       "</style>\n",
       "<table border=\"1\" class=\"dataframe\">\n",
       "  <thead>\n",
       "    <tr style=\"text-align: right;\">\n",
       "      <th></th>\n",
       "      <th>student_name</th>\n",
       "      <th>Mathematics</th>\n",
       "      <th>Physics</th>\n",
       "      <th>Chemistry</th>\n",
       "    </tr>\n",
       "  </thead>\n",
       "  <tbody>\n",
       "    <tr>\n",
       "      <th>0</th>\n",
       "      <td>Lucky</td>\n",
       "      <td>45</td>\n",
       "      <td>45</td>\n",
       "      <td>45</td>\n",
       "    </tr>\n",
       "    <tr>\n",
       "      <th>1</th>\n",
       "      <td>Laxman</td>\n",
       "      <td>56</td>\n",
       "      <td>67</td>\n",
       "      <td>89</td>\n",
       "    </tr>\n",
       "  </tbody>\n",
       "</table>\n",
       "</div>"
      ],
      "text/plain": [
       "  student_name  Mathematics  Physics  Chemistry\n",
       "0        Lucky           45       45         45\n",
       "1       Laxman           56       67         89"
      ]
     },
     "execution_count": 23,
     "metadata": {},
     "output_type": "execute_result"
    }
   ],
   "source": [
    "class_list.head(2)"
   ]
  },
  {
   "cell_type": "code",
   "execution_count": 24,
   "id": "b8171f5a",
   "metadata": {},
   "outputs": [
    {
     "data": {
      "text/html": [
       "<div>\n",
       "<style scoped>\n",
       "    .dataframe tbody tr th:only-of-type {\n",
       "        vertical-align: middle;\n",
       "    }\n",
       "\n",
       "    .dataframe tbody tr th {\n",
       "        vertical-align: top;\n",
       "    }\n",
       "\n",
       "    .dataframe thead th {\n",
       "        text-align: right;\n",
       "    }\n",
       "</style>\n",
       "<table border=\"1\" class=\"dataframe\">\n",
       "  <thead>\n",
       "    <tr style=\"text-align: right;\">\n",
       "      <th></th>\n",
       "      <th>student_name</th>\n",
       "      <th>Mathematics</th>\n",
       "      <th>Physics</th>\n",
       "      <th>Chemistry</th>\n",
       "    </tr>\n",
       "  </thead>\n",
       "  <tbody>\n",
       "    <tr>\n",
       "      <th>5</th>\n",
       "      <td>Sita</td>\n",
       "      <td>88</td>\n",
       "      <td>56</td>\n",
       "      <td>78</td>\n",
       "    </tr>\n",
       "    <tr>\n",
       "      <th>6</th>\n",
       "      <td>chinna</td>\n",
       "      <td>24</td>\n",
       "      <td>89</td>\n",
       "      <td>47</td>\n",
       "    </tr>\n",
       "    <tr>\n",
       "      <th>7</th>\n",
       "      <td>Happy</td>\n",
       "      <td>34</td>\n",
       "      <td>57</td>\n",
       "      <td>87</td>\n",
       "    </tr>\n",
       "  </tbody>\n",
       "</table>\n",
       "</div>"
      ],
      "text/plain": [
       "  student_name  Mathematics  Physics  Chemistry\n",
       "5         Sita           88       56         78\n",
       "6       chinna           24       89         47\n",
       "7        Happy           34       57         87"
      ]
     },
     "execution_count": 24,
     "metadata": {},
     "output_type": "execute_result"
    }
   ],
   "source": [
    "class_list.tail(3)"
   ]
  },
  {
   "cell_type": "markdown",
   "id": "634488f1",
   "metadata": {},
   "source": [
    "# ADDING TOTAL COLUMN TO THE DATAFRAME"
   ]
  },
  {
   "cell_type": "code",
   "execution_count": 25,
   "id": "2d4adcb9",
   "metadata": {},
   "outputs": [],
   "source": [
    "class_list[\"Total\"]=total"
   ]
  },
  {
   "cell_type": "code",
   "execution_count": 26,
   "id": "05956670",
   "metadata": {},
   "outputs": [
    {
     "data": {
      "text/html": [
       "<div>\n",
       "<style scoped>\n",
       "    .dataframe tbody tr th:only-of-type {\n",
       "        vertical-align: middle;\n",
       "    }\n",
       "\n",
       "    .dataframe tbody tr th {\n",
       "        vertical-align: top;\n",
       "    }\n",
       "\n",
       "    .dataframe thead th {\n",
       "        text-align: right;\n",
       "    }\n",
       "</style>\n",
       "<table border=\"1\" class=\"dataframe\">\n",
       "  <thead>\n",
       "    <tr style=\"text-align: right;\">\n",
       "      <th></th>\n",
       "      <th>student_name</th>\n",
       "      <th>Mathematics</th>\n",
       "      <th>Physics</th>\n",
       "      <th>Chemistry</th>\n",
       "      <th>Total</th>\n",
       "    </tr>\n",
       "  </thead>\n",
       "  <tbody>\n",
       "    <tr>\n",
       "      <th>0</th>\n",
       "      <td>Lucky</td>\n",
       "      <td>45</td>\n",
       "      <td>45</td>\n",
       "      <td>45</td>\n",
       "      <td>135</td>\n",
       "    </tr>\n",
       "    <tr>\n",
       "      <th>1</th>\n",
       "      <td>Laxman</td>\n",
       "      <td>56</td>\n",
       "      <td>67</td>\n",
       "      <td>89</td>\n",
       "      <td>212</td>\n",
       "    </tr>\n",
       "    <tr>\n",
       "      <th>2</th>\n",
       "      <td>mani</td>\n",
       "      <td>77</td>\n",
       "      <td>56</td>\n",
       "      <td>56</td>\n",
       "      <td>189</td>\n",
       "    </tr>\n",
       "    <tr>\n",
       "      <th>3</th>\n",
       "      <td>Ramu</td>\n",
       "      <td>89</td>\n",
       "      <td>87</td>\n",
       "      <td>36</td>\n",
       "      <td>212</td>\n",
       "    </tr>\n",
       "    <tr>\n",
       "      <th>4</th>\n",
       "      <td>Raju</td>\n",
       "      <td>76</td>\n",
       "      <td>35</td>\n",
       "      <td>26</td>\n",
       "      <td>137</td>\n",
       "    </tr>\n",
       "    <tr>\n",
       "      <th>5</th>\n",
       "      <td>Sita</td>\n",
       "      <td>88</td>\n",
       "      <td>56</td>\n",
       "      <td>78</td>\n",
       "      <td>222</td>\n",
       "    </tr>\n",
       "    <tr>\n",
       "      <th>6</th>\n",
       "      <td>chinna</td>\n",
       "      <td>24</td>\n",
       "      <td>89</td>\n",
       "      <td>47</td>\n",
       "      <td>160</td>\n",
       "    </tr>\n",
       "    <tr>\n",
       "      <th>7</th>\n",
       "      <td>Happy</td>\n",
       "      <td>34</td>\n",
       "      <td>57</td>\n",
       "      <td>87</td>\n",
       "      <td>178</td>\n",
       "    </tr>\n",
       "  </tbody>\n",
       "</table>\n",
       "</div>"
      ],
      "text/plain": [
       "  student_name  Mathematics  Physics  Chemistry  Total\n",
       "0        Lucky           45       45         45    135\n",
       "1       Laxman           56       67         89    212\n",
       "2         mani           77       56         56    189\n",
       "3         Ramu           89       87         36    212\n",
       "4         Raju           76       35         26    137\n",
       "5         Sita           88       56         78    222\n",
       "6       chinna           24       89         47    160\n",
       "7        Happy           34       57         87    178"
      ]
     },
     "execution_count": 26,
     "metadata": {},
     "output_type": "execute_result"
    }
   ],
   "source": [
    "class_list"
   ]
  },
  {
   "cell_type": "markdown",
   "id": "4101e154",
   "metadata": {},
   "source": [
    "# ADDING GRADE COLUMN TO THE DATAFRAME USING THE CONDITIONAL STATEMENTS"
   ]
  },
  {
   "cell_type": "code",
   "execution_count": 27,
   "id": "f19f2022",
   "metadata": {},
   "outputs": [],
   "source": [
    "import numpy as np"
   ]
  },
  {
   "cell_type": "code",
   "execution_count": 28,
   "id": "c8d5f7f7",
   "metadata": {},
   "outputs": [],
   "source": [
    "class_list[\"Grades\"]=np.where(class_list[\"Total\"]>100,\"A\",\"B\")"
   ]
  },
  {
   "cell_type": "markdown",
   "id": "83284353",
   "metadata": {},
   "source": [
    "# viewing the class_list"
   ]
  },
  {
   "cell_type": "code",
   "execution_count": 29,
   "id": "88490f8c",
   "metadata": {},
   "outputs": [
    {
     "data": {
      "text/html": [
       "<div>\n",
       "<style scoped>\n",
       "    .dataframe tbody tr th:only-of-type {\n",
       "        vertical-align: middle;\n",
       "    }\n",
       "\n",
       "    .dataframe tbody tr th {\n",
       "        vertical-align: top;\n",
       "    }\n",
       "\n",
       "    .dataframe thead th {\n",
       "        text-align: right;\n",
       "    }\n",
       "</style>\n",
       "<table border=\"1\" class=\"dataframe\">\n",
       "  <thead>\n",
       "    <tr style=\"text-align: right;\">\n",
       "      <th></th>\n",
       "      <th>student_name</th>\n",
       "      <th>Mathematics</th>\n",
       "      <th>Physics</th>\n",
       "      <th>Chemistry</th>\n",
       "      <th>Total</th>\n",
       "      <th>Grades</th>\n",
       "    </tr>\n",
       "  </thead>\n",
       "  <tbody>\n",
       "    <tr>\n",
       "      <th>0</th>\n",
       "      <td>Lucky</td>\n",
       "      <td>45</td>\n",
       "      <td>45</td>\n",
       "      <td>45</td>\n",
       "      <td>135</td>\n",
       "      <td>A</td>\n",
       "    </tr>\n",
       "    <tr>\n",
       "      <th>1</th>\n",
       "      <td>Laxman</td>\n",
       "      <td>56</td>\n",
       "      <td>67</td>\n",
       "      <td>89</td>\n",
       "      <td>212</td>\n",
       "      <td>A</td>\n",
       "    </tr>\n",
       "    <tr>\n",
       "      <th>2</th>\n",
       "      <td>mani</td>\n",
       "      <td>77</td>\n",
       "      <td>56</td>\n",
       "      <td>56</td>\n",
       "      <td>189</td>\n",
       "      <td>A</td>\n",
       "    </tr>\n",
       "    <tr>\n",
       "      <th>3</th>\n",
       "      <td>Ramu</td>\n",
       "      <td>89</td>\n",
       "      <td>87</td>\n",
       "      <td>36</td>\n",
       "      <td>212</td>\n",
       "      <td>A</td>\n",
       "    </tr>\n",
       "    <tr>\n",
       "      <th>4</th>\n",
       "      <td>Raju</td>\n",
       "      <td>76</td>\n",
       "      <td>35</td>\n",
       "      <td>26</td>\n",
       "      <td>137</td>\n",
       "      <td>A</td>\n",
       "    </tr>\n",
       "    <tr>\n",
       "      <th>5</th>\n",
       "      <td>Sita</td>\n",
       "      <td>88</td>\n",
       "      <td>56</td>\n",
       "      <td>78</td>\n",
       "      <td>222</td>\n",
       "      <td>A</td>\n",
       "    </tr>\n",
       "    <tr>\n",
       "      <th>6</th>\n",
       "      <td>chinna</td>\n",
       "      <td>24</td>\n",
       "      <td>89</td>\n",
       "      <td>47</td>\n",
       "      <td>160</td>\n",
       "      <td>A</td>\n",
       "    </tr>\n",
       "    <tr>\n",
       "      <th>7</th>\n",
       "      <td>Happy</td>\n",
       "      <td>34</td>\n",
       "      <td>57</td>\n",
       "      <td>87</td>\n",
       "      <td>178</td>\n",
       "      <td>A</td>\n",
       "    </tr>\n",
       "  </tbody>\n",
       "</table>\n",
       "</div>"
      ],
      "text/plain": [
       "  student_name  Mathematics  Physics  Chemistry  Total Grades\n",
       "0        Lucky           45       45         45    135      A\n",
       "1       Laxman           56       67         89    212      A\n",
       "2         mani           77       56         56    189      A\n",
       "3         Ramu           89       87         36    212      A\n",
       "4         Raju           76       35         26    137      A\n",
       "5         Sita           88       56         78    222      A\n",
       "6       chinna           24       89         47    160      A\n",
       "7        Happy           34       57         87    178      A"
      ]
     },
     "execution_count": 29,
     "metadata": {},
     "output_type": "execute_result"
    }
   ],
   "source": [
    "class_list"
   ]
  },
  {
   "cell_type": "markdown",
   "id": "d830143e",
   "metadata": {},
   "source": [
    "# adding the pass/fail column to the dataframe"
   ]
  },
  {
   "cell_type": "code",
   "execution_count": 30,
   "id": "fe8fa3bb",
   "metadata": {},
   "outputs": [],
   "source": [
    "class_list[\"Pass/Fail\"]=np.where(class_list[\"Total\"]>100,\"P\",\"*\")"
   ]
  },
  {
   "cell_type": "code",
   "execution_count": 31,
   "id": "d00bea66",
   "metadata": {},
   "outputs": [
    {
     "data": {
      "text/html": [
       "<div>\n",
       "<style scoped>\n",
       "    .dataframe tbody tr th:only-of-type {\n",
       "        vertical-align: middle;\n",
       "    }\n",
       "\n",
       "    .dataframe tbody tr th {\n",
       "        vertical-align: top;\n",
       "    }\n",
       "\n",
       "    .dataframe thead th {\n",
       "        text-align: right;\n",
       "    }\n",
       "</style>\n",
       "<table border=\"1\" class=\"dataframe\">\n",
       "  <thead>\n",
       "    <tr style=\"text-align: right;\">\n",
       "      <th></th>\n",
       "      <th>student_name</th>\n",
       "      <th>Mathematics</th>\n",
       "      <th>Physics</th>\n",
       "      <th>Chemistry</th>\n",
       "      <th>Total</th>\n",
       "      <th>Grades</th>\n",
       "      <th>Pass/Fail</th>\n",
       "    </tr>\n",
       "  </thead>\n",
       "  <tbody>\n",
       "    <tr>\n",
       "      <th>0</th>\n",
       "      <td>Lucky</td>\n",
       "      <td>45</td>\n",
       "      <td>45</td>\n",
       "      <td>45</td>\n",
       "      <td>135</td>\n",
       "      <td>A</td>\n",
       "      <td>P</td>\n",
       "    </tr>\n",
       "    <tr>\n",
       "      <th>1</th>\n",
       "      <td>Laxman</td>\n",
       "      <td>56</td>\n",
       "      <td>67</td>\n",
       "      <td>89</td>\n",
       "      <td>212</td>\n",
       "      <td>A</td>\n",
       "      <td>P</td>\n",
       "    </tr>\n",
       "    <tr>\n",
       "      <th>2</th>\n",
       "      <td>mani</td>\n",
       "      <td>77</td>\n",
       "      <td>56</td>\n",
       "      <td>56</td>\n",
       "      <td>189</td>\n",
       "      <td>A</td>\n",
       "      <td>P</td>\n",
       "    </tr>\n",
       "    <tr>\n",
       "      <th>3</th>\n",
       "      <td>Ramu</td>\n",
       "      <td>89</td>\n",
       "      <td>87</td>\n",
       "      <td>36</td>\n",
       "      <td>212</td>\n",
       "      <td>A</td>\n",
       "      <td>P</td>\n",
       "    </tr>\n",
       "    <tr>\n",
       "      <th>4</th>\n",
       "      <td>Raju</td>\n",
       "      <td>76</td>\n",
       "      <td>35</td>\n",
       "      <td>26</td>\n",
       "      <td>137</td>\n",
       "      <td>A</td>\n",
       "      <td>P</td>\n",
       "    </tr>\n",
       "    <tr>\n",
       "      <th>5</th>\n",
       "      <td>Sita</td>\n",
       "      <td>88</td>\n",
       "      <td>56</td>\n",
       "      <td>78</td>\n",
       "      <td>222</td>\n",
       "      <td>A</td>\n",
       "      <td>P</td>\n",
       "    </tr>\n",
       "    <tr>\n",
       "      <th>6</th>\n",
       "      <td>chinna</td>\n",
       "      <td>24</td>\n",
       "      <td>89</td>\n",
       "      <td>47</td>\n",
       "      <td>160</td>\n",
       "      <td>A</td>\n",
       "      <td>P</td>\n",
       "    </tr>\n",
       "    <tr>\n",
       "      <th>7</th>\n",
       "      <td>Happy</td>\n",
       "      <td>34</td>\n",
       "      <td>57</td>\n",
       "      <td>87</td>\n",
       "      <td>178</td>\n",
       "      <td>A</td>\n",
       "      <td>P</td>\n",
       "    </tr>\n",
       "  </tbody>\n",
       "</table>\n",
       "</div>"
      ],
      "text/plain": [
       "  student_name  Mathematics  Physics  Chemistry  Total Grades Pass/Fail\n",
       "0        Lucky           45       45         45    135      A         P\n",
       "1       Laxman           56       67         89    212      A         P\n",
       "2         mani           77       56         56    189      A         P\n",
       "3         Ramu           89       87         36    212      A         P\n",
       "4         Raju           76       35         26    137      A         P\n",
       "5         Sita           88       56         78    222      A         P\n",
       "6       chinna           24       89         47    160      A         P\n",
       "7        Happy           34       57         87    178      A         P"
      ]
     },
     "execution_count": 31,
     "metadata": {},
     "output_type": "execute_result"
    }
   ],
   "source": [
    "class_list"
   ]
  },
  {
   "cell_type": "markdown",
   "id": "307e79d3",
   "metadata": {},
   "source": [
    "# describing and viewing the dataframe"
   ]
  },
  {
   "cell_type": "code",
   "execution_count": 32,
   "id": "ab9ab31e",
   "metadata": {},
   "outputs": [
    {
     "data": {
      "text/html": [
       "<div>\n",
       "<style scoped>\n",
       "    .dataframe tbody tr th:only-of-type {\n",
       "        vertical-align: middle;\n",
       "    }\n",
       "\n",
       "    .dataframe tbody tr th {\n",
       "        vertical-align: top;\n",
       "    }\n",
       "\n",
       "    .dataframe thead th {\n",
       "        text-align: right;\n",
       "    }\n",
       "</style>\n",
       "<table border=\"1\" class=\"dataframe\">\n",
       "  <thead>\n",
       "    <tr style=\"text-align: right;\">\n",
       "      <th></th>\n",
       "      <th>Mathematics</th>\n",
       "      <th>Physics</th>\n",
       "      <th>Chemistry</th>\n",
       "      <th>Total</th>\n",
       "    </tr>\n",
       "  </thead>\n",
       "  <tbody>\n",
       "    <tr>\n",
       "      <th>count</th>\n",
       "      <td>8.000000</td>\n",
       "      <td>8.000000</td>\n",
       "      <td>8.000000</td>\n",
       "      <td>8.000000</td>\n",
       "    </tr>\n",
       "    <tr>\n",
       "      <th>mean</th>\n",
       "      <td>61.125000</td>\n",
       "      <td>61.500000</td>\n",
       "      <td>58.000000</td>\n",
       "      <td>180.625000</td>\n",
       "    </tr>\n",
       "    <tr>\n",
       "      <th>std</th>\n",
       "      <td>24.993928</td>\n",
       "      <td>18.867962</td>\n",
       "      <td>23.916521</td>\n",
       "      <td>34.159029</td>\n",
       "    </tr>\n",
       "    <tr>\n",
       "      <th>min</th>\n",
       "      <td>24.000000</td>\n",
       "      <td>35.000000</td>\n",
       "      <td>26.000000</td>\n",
       "      <td>135.000000</td>\n",
       "    </tr>\n",
       "    <tr>\n",
       "      <th>25%</th>\n",
       "      <td>42.250000</td>\n",
       "      <td>53.250000</td>\n",
       "      <td>42.750000</td>\n",
       "      <td>154.250000</td>\n",
       "    </tr>\n",
       "    <tr>\n",
       "      <th>50%</th>\n",
       "      <td>66.000000</td>\n",
       "      <td>56.500000</td>\n",
       "      <td>51.500000</td>\n",
       "      <td>183.500000</td>\n",
       "    </tr>\n",
       "    <tr>\n",
       "      <th>75%</th>\n",
       "      <td>79.750000</td>\n",
       "      <td>72.000000</td>\n",
       "      <td>80.250000</td>\n",
       "      <td>212.000000</td>\n",
       "    </tr>\n",
       "    <tr>\n",
       "      <th>max</th>\n",
       "      <td>89.000000</td>\n",
       "      <td>89.000000</td>\n",
       "      <td>89.000000</td>\n",
       "      <td>222.000000</td>\n",
       "    </tr>\n",
       "  </tbody>\n",
       "</table>\n",
       "</div>"
      ],
      "text/plain": [
       "       Mathematics    Physics  Chemistry       Total\n",
       "count     8.000000   8.000000   8.000000    8.000000\n",
       "mean     61.125000  61.500000  58.000000  180.625000\n",
       "std      24.993928  18.867962  23.916521   34.159029\n",
       "min      24.000000  35.000000  26.000000  135.000000\n",
       "25%      42.250000  53.250000  42.750000  154.250000\n",
       "50%      66.000000  56.500000  51.500000  183.500000\n",
       "75%      79.750000  72.000000  80.250000  212.000000\n",
       "max      89.000000  89.000000  89.000000  222.000000"
      ]
     },
     "execution_count": 32,
     "metadata": {},
     "output_type": "execute_result"
    }
   ],
   "source": [
    "class_list.describe()"
   ]
  },
  {
   "cell_type": "markdown",
   "id": "b45c6b19",
   "metadata": {},
   "source": [
    "# saving into the csv"
   ]
  },
  {
   "cell_type": "code",
   "execution_count": 33,
   "id": "7f35ae04",
   "metadata": {},
   "outputs": [],
   "source": [
    "class_list.to_csv(\"class_mark.csv\")"
   ]
  },
  {
   "cell_type": "markdown",
   "id": "4a269861",
   "metadata": {},
   "source": [
    "# loading the csv file"
   ]
  },
  {
   "cell_type": "code",
   "execution_count": 34,
   "id": "1be1f474",
   "metadata": {},
   "outputs": [],
   "source": [
    "class_marks=pd.read_csv(\"class_mark.csv\")"
   ]
  },
  {
   "cell_type": "code",
   "execution_count": 35,
   "id": "73ac8474",
   "metadata": {},
   "outputs": [
    {
     "data": {
      "text/html": [
       "<div>\n",
       "<style scoped>\n",
       "    .dataframe tbody tr th:only-of-type {\n",
       "        vertical-align: middle;\n",
       "    }\n",
       "\n",
       "    .dataframe tbody tr th {\n",
       "        vertical-align: top;\n",
       "    }\n",
       "\n",
       "    .dataframe thead th {\n",
       "        text-align: right;\n",
       "    }\n",
       "</style>\n",
       "<table border=\"1\" class=\"dataframe\">\n",
       "  <thead>\n",
       "    <tr style=\"text-align: right;\">\n",
       "      <th></th>\n",
       "      <th>Unnamed: 0</th>\n",
       "      <th>student_name</th>\n",
       "      <th>Mathematics</th>\n",
       "      <th>Physics</th>\n",
       "      <th>Chemistry</th>\n",
       "      <th>Total</th>\n",
       "      <th>Grades</th>\n",
       "      <th>Pass/Fail</th>\n",
       "    </tr>\n",
       "  </thead>\n",
       "  <tbody>\n",
       "    <tr>\n",
       "      <th>0</th>\n",
       "      <td>0</td>\n",
       "      <td>Lucky</td>\n",
       "      <td>45</td>\n",
       "      <td>45</td>\n",
       "      <td>45</td>\n",
       "      <td>135</td>\n",
       "      <td>A</td>\n",
       "      <td>P</td>\n",
       "    </tr>\n",
       "    <tr>\n",
       "      <th>1</th>\n",
       "      <td>1</td>\n",
       "      <td>Laxman</td>\n",
       "      <td>56</td>\n",
       "      <td>67</td>\n",
       "      <td>89</td>\n",
       "      <td>212</td>\n",
       "      <td>A</td>\n",
       "      <td>P</td>\n",
       "    </tr>\n",
       "    <tr>\n",
       "      <th>2</th>\n",
       "      <td>2</td>\n",
       "      <td>mani</td>\n",
       "      <td>77</td>\n",
       "      <td>56</td>\n",
       "      <td>56</td>\n",
       "      <td>189</td>\n",
       "      <td>A</td>\n",
       "      <td>P</td>\n",
       "    </tr>\n",
       "    <tr>\n",
       "      <th>3</th>\n",
       "      <td>3</td>\n",
       "      <td>Ramu</td>\n",
       "      <td>89</td>\n",
       "      <td>87</td>\n",
       "      <td>36</td>\n",
       "      <td>212</td>\n",
       "      <td>A</td>\n",
       "      <td>P</td>\n",
       "    </tr>\n",
       "    <tr>\n",
       "      <th>4</th>\n",
       "      <td>4</td>\n",
       "      <td>Raju</td>\n",
       "      <td>76</td>\n",
       "      <td>35</td>\n",
       "      <td>26</td>\n",
       "      <td>137</td>\n",
       "      <td>A</td>\n",
       "      <td>P</td>\n",
       "    </tr>\n",
       "    <tr>\n",
       "      <th>5</th>\n",
       "      <td>5</td>\n",
       "      <td>Sita</td>\n",
       "      <td>88</td>\n",
       "      <td>56</td>\n",
       "      <td>78</td>\n",
       "      <td>222</td>\n",
       "      <td>A</td>\n",
       "      <td>P</td>\n",
       "    </tr>\n",
       "    <tr>\n",
       "      <th>6</th>\n",
       "      <td>6</td>\n",
       "      <td>chinna</td>\n",
       "      <td>24</td>\n",
       "      <td>89</td>\n",
       "      <td>47</td>\n",
       "      <td>160</td>\n",
       "      <td>A</td>\n",
       "      <td>P</td>\n",
       "    </tr>\n",
       "    <tr>\n",
       "      <th>7</th>\n",
       "      <td>7</td>\n",
       "      <td>Happy</td>\n",
       "      <td>34</td>\n",
       "      <td>57</td>\n",
       "      <td>87</td>\n",
       "      <td>178</td>\n",
       "      <td>A</td>\n",
       "      <td>P</td>\n",
       "    </tr>\n",
       "  </tbody>\n",
       "</table>\n",
       "</div>"
      ],
      "text/plain": [
       "   Unnamed: 0 student_name  Mathematics  Physics  Chemistry  Total Grades  \\\n",
       "0           0        Lucky           45       45         45    135      A   \n",
       "1           1       Laxman           56       67         89    212      A   \n",
       "2           2         mani           77       56         56    189      A   \n",
       "3           3         Ramu           89       87         36    212      A   \n",
       "4           4         Raju           76       35         26    137      A   \n",
       "5           5         Sita           88       56         78    222      A   \n",
       "6           6       chinna           24       89         47    160      A   \n",
       "7           7        Happy           34       57         87    178      A   \n",
       "\n",
       "  Pass/Fail  \n",
       "0         P  \n",
       "1         P  \n",
       "2         P  \n",
       "3         P  \n",
       "4         P  \n",
       "5         P  \n",
       "6         P  \n",
       "7         P  "
      ]
     },
     "execution_count": 35,
     "metadata": {},
     "output_type": "execute_result"
    }
   ],
   "source": [
    "class_marks"
   ]
  },
  {
   "cell_type": "code",
   "execution_count": 36,
   "id": "79815177",
   "metadata": {},
   "outputs": [
    {
     "data": {
      "text/html": [
       "<div>\n",
       "<style scoped>\n",
       "    .dataframe tbody tr th:only-of-type {\n",
       "        vertical-align: middle;\n",
       "    }\n",
       "\n",
       "    .dataframe tbody tr th {\n",
       "        vertical-align: top;\n",
       "    }\n",
       "\n",
       "    .dataframe thead th {\n",
       "        text-align: right;\n",
       "    }\n",
       "</style>\n",
       "<table border=\"1\" class=\"dataframe\">\n",
       "  <thead>\n",
       "    <tr style=\"text-align: right;\">\n",
       "      <th></th>\n",
       "      <th>student_name</th>\n",
       "      <th>Mathematics</th>\n",
       "      <th>Physics</th>\n",
       "      <th>Chemistry</th>\n",
       "      <th>Total</th>\n",
       "      <th>Grades</th>\n",
       "      <th>Pass/Fail</th>\n",
       "    </tr>\n",
       "  </thead>\n",
       "  <tbody>\n",
       "    <tr>\n",
       "      <th>0</th>\n",
       "      <td>Lucky</td>\n",
       "      <td>45</td>\n",
       "      <td>45</td>\n",
       "      <td>45</td>\n",
       "      <td>135</td>\n",
       "      <td>A</td>\n",
       "      <td>P</td>\n",
       "    </tr>\n",
       "    <tr>\n",
       "      <th>1</th>\n",
       "      <td>Laxman</td>\n",
       "      <td>56</td>\n",
       "      <td>67</td>\n",
       "      <td>89</td>\n",
       "      <td>212</td>\n",
       "      <td>A</td>\n",
       "      <td>P</td>\n",
       "    </tr>\n",
       "    <tr>\n",
       "      <th>2</th>\n",
       "      <td>mani</td>\n",
       "      <td>77</td>\n",
       "      <td>56</td>\n",
       "      <td>56</td>\n",
       "      <td>189</td>\n",
       "      <td>A</td>\n",
       "      <td>P</td>\n",
       "    </tr>\n",
       "    <tr>\n",
       "      <th>3</th>\n",
       "      <td>Ramu</td>\n",
       "      <td>89</td>\n",
       "      <td>87</td>\n",
       "      <td>36</td>\n",
       "      <td>212</td>\n",
       "      <td>A</td>\n",
       "      <td>P</td>\n",
       "    </tr>\n",
       "    <tr>\n",
       "      <th>4</th>\n",
       "      <td>Raju</td>\n",
       "      <td>76</td>\n",
       "      <td>35</td>\n",
       "      <td>26</td>\n",
       "      <td>137</td>\n",
       "      <td>A</td>\n",
       "      <td>P</td>\n",
       "    </tr>\n",
       "  </tbody>\n",
       "</table>\n",
       "</div>"
      ],
      "text/plain": [
       "  student_name  Mathematics  Physics  Chemistry  Total Grades Pass/Fail\n",
       "0        Lucky           45       45         45    135      A         P\n",
       "1       Laxman           56       67         89    212      A         P\n",
       "2         mani           77       56         56    189      A         P\n",
       "3         Ramu           89       87         36    212      A         P\n",
       "4         Raju           76       35         26    137      A         P"
      ]
     },
     "execution_count": 36,
     "metadata": {},
     "output_type": "execute_result"
    }
   ],
   "source": [
    "class_list.head()"
   ]
  },
  {
   "cell_type": "code",
   "execution_count": 37,
   "id": "3ee3de74",
   "metadata": {},
   "outputs": [
    {
     "data": {
      "text/html": [
       "<div>\n",
       "<style scoped>\n",
       "    .dataframe tbody tr th:only-of-type {\n",
       "        vertical-align: middle;\n",
       "    }\n",
       "\n",
       "    .dataframe tbody tr th {\n",
       "        vertical-align: top;\n",
       "    }\n",
       "\n",
       "    .dataframe thead th {\n",
       "        text-align: right;\n",
       "    }\n",
       "</style>\n",
       "<table border=\"1\" class=\"dataframe\">\n",
       "  <thead>\n",
       "    <tr style=\"text-align: right;\">\n",
       "      <th></th>\n",
       "      <th>student_name</th>\n",
       "      <th>Mathematics</th>\n",
       "      <th>Physics</th>\n",
       "      <th>Chemistry</th>\n",
       "      <th>Total</th>\n",
       "      <th>Grades</th>\n",
       "      <th>Pass/Fail</th>\n",
       "    </tr>\n",
       "  </thead>\n",
       "  <tbody>\n",
       "    <tr>\n",
       "      <th>3</th>\n",
       "      <td>Ramu</td>\n",
       "      <td>89</td>\n",
       "      <td>87</td>\n",
       "      <td>36</td>\n",
       "      <td>212</td>\n",
       "      <td>A</td>\n",
       "      <td>P</td>\n",
       "    </tr>\n",
       "    <tr>\n",
       "      <th>4</th>\n",
       "      <td>Raju</td>\n",
       "      <td>76</td>\n",
       "      <td>35</td>\n",
       "      <td>26</td>\n",
       "      <td>137</td>\n",
       "      <td>A</td>\n",
       "      <td>P</td>\n",
       "    </tr>\n",
       "    <tr>\n",
       "      <th>5</th>\n",
       "      <td>Sita</td>\n",
       "      <td>88</td>\n",
       "      <td>56</td>\n",
       "      <td>78</td>\n",
       "      <td>222</td>\n",
       "      <td>A</td>\n",
       "      <td>P</td>\n",
       "    </tr>\n",
       "    <tr>\n",
       "      <th>6</th>\n",
       "      <td>chinna</td>\n",
       "      <td>24</td>\n",
       "      <td>89</td>\n",
       "      <td>47</td>\n",
       "      <td>160</td>\n",
       "      <td>A</td>\n",
       "      <td>P</td>\n",
       "    </tr>\n",
       "    <tr>\n",
       "      <th>7</th>\n",
       "      <td>Happy</td>\n",
       "      <td>34</td>\n",
       "      <td>57</td>\n",
       "      <td>87</td>\n",
       "      <td>178</td>\n",
       "      <td>A</td>\n",
       "      <td>P</td>\n",
       "    </tr>\n",
       "  </tbody>\n",
       "</table>\n",
       "</div>"
      ],
      "text/plain": [
       "  student_name  Mathematics  Physics  Chemistry  Total Grades Pass/Fail\n",
       "3         Ramu           89       87         36    212      A         P\n",
       "4         Raju           76       35         26    137      A         P\n",
       "5         Sita           88       56         78    222      A         P\n",
       "6       chinna           24       89         47    160      A         P\n",
       "7        Happy           34       57         87    178      A         P"
      ]
     },
     "execution_count": 37,
     "metadata": {},
     "output_type": "execute_result"
    }
   ],
   "source": [
    "class_list.tail()"
   ]
  },
  {
   "cell_type": "code",
   "execution_count": null,
   "id": "d9b26836",
   "metadata": {},
   "outputs": [],
   "source": []
  },
  {
   "cell_type": "code",
   "execution_count": null,
   "id": "3fdee827",
   "metadata": {},
   "outputs": [],
   "source": []
  },
  {
   "cell_type": "code",
   "execution_count": null,
   "id": "da778dcf",
   "metadata": {},
   "outputs": [],
   "source": []
  },
  {
   "cell_type": "code",
   "execution_count": null,
   "id": "4924c49f",
   "metadata": {},
   "outputs": [],
   "source": []
  },
  {
   "cell_type": "code",
   "execution_count": null,
   "id": "a7843500",
   "metadata": {},
   "outputs": [],
   "source": []
  },
  {
   "cell_type": "code",
   "execution_count": null,
   "id": "48d8345e",
   "metadata": {},
   "outputs": [],
   "source": []
  }
 ],
 "metadata": {
  "kernelspec": {
   "display_name": "Python 3 (ipykernel)",
   "language": "python",
   "name": "python3"
  },
  "language_info": {
   "codemirror_mode": {
    "name": "ipython",
    "version": 3
   },
   "file_extension": ".py",
   "mimetype": "text/x-python",
   "name": "python",
   "nbconvert_exporter": "python",
   "pygments_lexer": "ipython3",
   "version": "3.9.7"
  }
 },
 "nbformat": 4,
 "nbformat_minor": 5
}
